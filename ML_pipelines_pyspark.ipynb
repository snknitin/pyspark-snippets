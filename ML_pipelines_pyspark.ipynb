{
  "nbformat": 4,
  "nbformat_minor": 0,
  "metadata": {
    "colab": {
      "provenance": [],
      "authorship_tag": "ABX9TyN2DMj/n137dP1uR20JNqwl",
      "include_colab_link": true
    },
    "kernelspec": {
      "name": "python3",
      "display_name": "Python 3"
    },
    "language_info": {
      "name": "python"
    }
  },
  "cells": [
    {
      "cell_type": "markdown",
      "metadata": {
        "id": "view-in-github",
        "colab_type": "text"
      },
      "source": [
        "<a href=\"https://colab.research.google.com/github/snknitin/pyspark-snippets/blob/main/ML_pipelines_pyspark.ipynb\" target=\"_parent\"><img src=\"https://colab.research.google.com/assets/colab-badge.svg\" alt=\"Open In Colab\"/></a>"
      ]
    },
    {
      "cell_type": "code",
      "execution_count": 11,
      "metadata": {
        "id": "rLHjtCKgp2dF"
      },
      "outputs": [],
      "source": [
        "!apt-get install openjdk-8-jdk-headless -qq > /dev/null\n",
        "!wget -q https://downloads.apache.org/spark/spark-3.4.2/spark-3.4.2-bin-hadoop3.tgz\n",
        "!tar xf spark-3.4.2-bin-hadoop3.tgz\n",
        "!pip install -q findspark # adds pyspark to sys path at runtime"
      ]
    },
    {
      "cell_type": "code",
      "source": [
        "import os\n",
        "os.environ[\"JAVA_HOME\"] = \"/usr/lib/jvm/java-8-openjdk-amd64\"\n",
        "os.environ[\"SPARK_HOME\"] = \"/content/spark-3.4.2-bin-hadoop3\"\n",
        "import findspark\n",
        "findspark.init()\n",
        "from google.colab import files\n",
        "from pyspark.sql import SparkSession\n",
        "from pyspark.ml.feature import VectorAssembler\n",
        "from pyspark.sql.functions import isnan, when, count, col, lit\n",
        "from pyspark.ml.regression import RandomForestRegressor\n",
        "from pyspark.ml.evaluation import RegressionEvaluator\n",
        "from pyspark.ml import Pipeline\n",
        "from pyspark.ml.tuning import CrossValidator\n",
        "from pyspark.ml.evaluation import RegressionEvaluator\n",
        "from pyspark.ml.tuning import ParamGridBuilder\n"
      ],
      "metadata": {
        "id": "CsaPoNSBp9gz"
      },
      "execution_count": 12,
      "outputs": []
    },
    {
      "cell_type": "code",
      "source": [
        "sc = SparkSession.builder.master(\"local[*]\").getOrCreate()"
      ],
      "metadata": {
        "id": "__enkvSuqXXF"
      },
      "execution_count": 13,
      "outputs": []
    },
    {
      "cell_type": "code",
      "source": [
        "from google.colab import drive\n",
        "drive.mount('/content/drive')"
      ],
      "metadata": {
        "colab": {
          "base_uri": "https://localhost:8080/"
        },
        "id": "OO_0PR_LqXi3",
        "outputId": "c8b55976-54cd-4634-d607-60aef5739db6"
      },
      "execution_count": 14,
      "outputs": [
        {
          "output_type": "stream",
          "name": "stdout",
          "text": [
            "Mounted at /content/drive\n"
          ]
        }
      ]
    },
    {
      "cell_type": "code",
      "source": [
        "sc_path = \"/content/drive/MyDrive/datasets/data.csv\"\n",
        "data = sc.read.csv(sc_path, inferSchema=True,header=True)"
      ],
      "metadata": {
        "id": "G7JXKR7nqXlg"
      },
      "execution_count": 17,
      "outputs": []
    },
    {
      "cell_type": "code",
      "source": [
        "data.show()"
      ],
      "metadata": {
        "colab": {
          "base_uri": "https://localhost:8080/"
        },
        "id": "PD-XtX_-qXoL",
        "outputId": "5f48fc0c-d757-43cf-87fc-1b6170a81a73"
      },
      "execution_count": 18,
      "outputs": [
        {
          "output_type": "stream",
          "name": "stdout",
          "text": [
            "+----+----------+----+--------------------+---------+----------------+-----------------+-----------------+---------------+--------------------+------------+-------------+-----------+--------+----------+-----+\n",
            "|Make|     Model|Year|    Engine Fuel Type|Engine HP|Engine Cylinders|Transmission Type|    Driven_Wheels|Number of Doors|     Market Category|Vehicle Size|Vehicle Style|highway MPG|city mpg|Popularity| MSRP|\n",
            "+----+----------+----+--------------------+---------+----------------+-----------------+-----------------+---------------+--------------------+------------+-------------+-----------+--------+----------+-----+\n",
            "| BMW|1 Series M|2011|premium unleaded ...|      335|               6|           MANUAL| rear wheel drive|              2|Factory Tuner,Lux...|     Compact|        Coupe|         26|      19|      3916|46135|\n",
            "| BMW|  1 Series|2011|premium unleaded ...|      300|               6|           MANUAL| rear wheel drive|              2|  Luxury,Performance|     Compact|  Convertible|         28|      19|      3916|40650|\n",
            "| BMW|  1 Series|2011|premium unleaded ...|      300|               6|           MANUAL| rear wheel drive|              2|Luxury,High-Perfo...|     Compact|        Coupe|         28|      20|      3916|36350|\n",
            "| BMW|  1 Series|2011|premium unleaded ...|      230|               6|           MANUAL| rear wheel drive|              2|  Luxury,Performance|     Compact|        Coupe|         28|      18|      3916|29450|\n",
            "| BMW|  1 Series|2011|premium unleaded ...|      230|               6|           MANUAL| rear wheel drive|              2|              Luxury|     Compact|  Convertible|         28|      18|      3916|34500|\n",
            "| BMW|  1 Series|2012|premium unleaded ...|      230|               6|           MANUAL| rear wheel drive|              2|  Luxury,Performance|     Compact|        Coupe|         28|      18|      3916|31200|\n",
            "| BMW|  1 Series|2012|premium unleaded ...|      300|               6|           MANUAL| rear wheel drive|              2|  Luxury,Performance|     Compact|  Convertible|         26|      17|      3916|44100|\n",
            "| BMW|  1 Series|2012|premium unleaded ...|      300|               6|           MANUAL| rear wheel drive|              2|Luxury,High-Perfo...|     Compact|        Coupe|         28|      20|      3916|39300|\n",
            "| BMW|  1 Series|2012|premium unleaded ...|      230|               6|           MANUAL| rear wheel drive|              2|              Luxury|     Compact|  Convertible|         28|      18|      3916|36900|\n",
            "| BMW|  1 Series|2013|premium unleaded ...|      230|               6|           MANUAL| rear wheel drive|              2|              Luxury|     Compact|  Convertible|         27|      18|      3916|37200|\n",
            "| BMW|  1 Series|2013|premium unleaded ...|      300|               6|           MANUAL| rear wheel drive|              2|Luxury,High-Perfo...|     Compact|        Coupe|         28|      20|      3916|39600|\n",
            "| BMW|  1 Series|2013|premium unleaded ...|      230|               6|           MANUAL| rear wheel drive|              2|  Luxury,Performance|     Compact|        Coupe|         28|      19|      3916|31500|\n",
            "| BMW|  1 Series|2013|premium unleaded ...|      300|               6|           MANUAL| rear wheel drive|              2|  Luxury,Performance|     Compact|  Convertible|         28|      19|      3916|44400|\n",
            "| BMW|  1 Series|2013|premium unleaded ...|      230|               6|           MANUAL| rear wheel drive|              2|              Luxury|     Compact|  Convertible|         28|      19|      3916|37200|\n",
            "| BMW|  1 Series|2013|premium unleaded ...|      230|               6|           MANUAL| rear wheel drive|              2|  Luxury,Performance|     Compact|        Coupe|         28|      19|      3916|31500|\n",
            "| BMW|  1 Series|2013|premium unleaded ...|      320|               6|           MANUAL| rear wheel drive|              2|Luxury,High-Perfo...|     Compact|  Convertible|         25|      18|      3916|48250|\n",
            "| BMW|  1 Series|2013|premium unleaded ...|      320|               6|           MANUAL| rear wheel drive|              2|Luxury,High-Perfo...|     Compact|        Coupe|         28|      20|      3916|43550|\n",
            "|Audi|       100|1992|    regular unleaded|      172|               6|           MANUAL|front wheel drive|              4|              Luxury|     Midsize|        Sedan|         24|      17|      3105| 2000|\n",
            "|Audi|       100|1992|    regular unleaded|      172|               6|           MANUAL|front wheel drive|              4|              Luxury|     Midsize|        Sedan|         24|      17|      3105| 2000|\n",
            "|Audi|       100|1992|    regular unleaded|      172|               6|        AUTOMATIC|  all wheel drive|              4|              Luxury|     Midsize|        Wagon|         20|      16|      3105| 2000|\n",
            "+----+----------+----+--------------------+---------+----------------+-----------------+-----------------+---------------+--------------------+------------+-------------+-----------+--------+----------+-----+\n",
            "only showing top 20 rows\n",
            "\n"
          ]
        }
      ]
    },
    {
      "cell_type": "code",
      "source": [
        "data.printSchema()"
      ],
      "metadata": {
        "colab": {
          "base_uri": "https://localhost:8080/"
        },
        "id": "06QheX2ZqXqd",
        "outputId": "cc61a625-8845-419f-c0cc-b2a83d0ae7ba"
      },
      "execution_count": 19,
      "outputs": [
        {
          "output_type": "stream",
          "name": "stdout",
          "text": [
            "root\n",
            " |-- Make: string (nullable = true)\n",
            " |-- Model: string (nullable = true)\n",
            " |-- Year: integer (nullable = true)\n",
            " |-- Engine Fuel Type: string (nullable = true)\n",
            " |-- Engine HP: integer (nullable = true)\n",
            " |-- Engine Cylinders: integer (nullable = true)\n",
            " |-- Transmission Type: string (nullable = true)\n",
            " |-- Driven_Wheels: string (nullable = true)\n",
            " |-- Number of Doors: integer (nullable = true)\n",
            " |-- Market Category: string (nullable = true)\n",
            " |-- Vehicle Size: string (nullable = true)\n",
            " |-- Vehicle Style: string (nullable = true)\n",
            " |-- highway MPG: integer (nullable = true)\n",
            " |-- city mpg: integer (nullable = true)\n",
            " |-- Popularity: integer (nullable = true)\n",
            " |-- MSRP: integer (nullable = true)\n",
            "\n"
          ]
        }
      ]
    },
    {
      "cell_type": "markdown",
      "source": [
        "Describe and Clean the Dataset"
      ],
      "metadata": {
        "id": "sIEk6vSZuXWP"
      }
    },
    {
      "cell_type": "code",
      "source": [
        "data.describe().toPandas().transpose()"
      ],
      "metadata": {
        "colab": {
          "base_uri": "https://localhost:8080/",
          "height": 582
        },
        "id": "eUQKw-U2qXsw",
        "outputId": "f9f47550-8374-420c-cddb-2a83ef145ab0"
      },
      "execution_count": 20,
      "outputs": [
        {
          "output_type": "execute_result",
          "data": {
            "text/plain": [
              "                       0                   1                   2  \\\n",
              "summary            count                mean              stddev   \n",
              "Make               11914                None                None   \n",
              "Model              11914   745.5822222222222  1490.8280590623795   \n",
              "Year               11914   2010.384337753903  7.5797398875957995   \n",
              "Engine Fuel Type   11911                None                None   \n",
              "Engine HP          11845  249.38607007176023  109.19187025917194   \n",
              "Engine Cylinders   11884   5.628828677213059    1.78055934824622   \n",
              "Transmission Type  11914                None                None   \n",
              "Driven_Wheels      11914                None                None   \n",
              "Number of Doors    11908  3.4360933825999327  0.8813153865835529   \n",
              "Market Category    11914                None                None   \n",
              "Vehicle Size       11914                None                None   \n",
              "Vehicle Style      11914                None                None   \n",
              "highway MPG        11914  26.637485311398354   8.863000766979422   \n",
              "city mpg           11914   19.73325499412456   8.987798160299237   \n",
              "Popularity         11914  1554.9111969111968  1441.8553466274648   \n",
              "MSRP               11914  40594.737032063116   60109.10360365422   \n",
              "\n",
              "                                  3                   4  \n",
              "summary                         min                 max  \n",
              "Make                          Acura               Volvo  \n",
              "Model                      1 Series                  xD  \n",
              "Year                           1990                2017  \n",
              "Engine Fuel Type             diesel    regular unleaded  \n",
              "Engine HP                        55                1001  \n",
              "Engine Cylinders                  0                  16  \n",
              "Transmission Type  AUTOMATED_MANUAL             UNKNOWN  \n",
              "Driven_Wheels       all wheel drive    rear wheel drive  \n",
              "Number of Doors                   2                   4  \n",
              "Market Category           Crossover  Performance,Hybrid  \n",
              "Vehicle Size                Compact             Midsize  \n",
              "Vehicle Style         2dr Hatchback               Wagon  \n",
              "highway MPG                      12                 354  \n",
              "city mpg                          7                 137  \n",
              "Popularity                        2                5657  \n",
              "MSRP                           2000             2065902  "
            ],
            "text/html": [
              "\n",
              "  <div id=\"df-ab0e90a4-8b05-4f25-9efd-fd5e3b707120\" class=\"colab-df-container\">\n",
              "    <div>\n",
              "<style scoped>\n",
              "    .dataframe tbody tr th:only-of-type {\n",
              "        vertical-align: middle;\n",
              "    }\n",
              "\n",
              "    .dataframe tbody tr th {\n",
              "        vertical-align: top;\n",
              "    }\n",
              "\n",
              "    .dataframe thead th {\n",
              "        text-align: right;\n",
              "    }\n",
              "</style>\n",
              "<table border=\"1\" class=\"dataframe\">\n",
              "  <thead>\n",
              "    <tr style=\"text-align: right;\">\n",
              "      <th></th>\n",
              "      <th>0</th>\n",
              "      <th>1</th>\n",
              "      <th>2</th>\n",
              "      <th>3</th>\n",
              "      <th>4</th>\n",
              "    </tr>\n",
              "  </thead>\n",
              "  <tbody>\n",
              "    <tr>\n",
              "      <th>summary</th>\n",
              "      <td>count</td>\n",
              "      <td>mean</td>\n",
              "      <td>stddev</td>\n",
              "      <td>min</td>\n",
              "      <td>max</td>\n",
              "    </tr>\n",
              "    <tr>\n",
              "      <th>Make</th>\n",
              "      <td>11914</td>\n",
              "      <td>None</td>\n",
              "      <td>None</td>\n",
              "      <td>Acura</td>\n",
              "      <td>Volvo</td>\n",
              "    </tr>\n",
              "    <tr>\n",
              "      <th>Model</th>\n",
              "      <td>11914</td>\n",
              "      <td>745.5822222222222</td>\n",
              "      <td>1490.8280590623795</td>\n",
              "      <td>1 Series</td>\n",
              "      <td>xD</td>\n",
              "    </tr>\n",
              "    <tr>\n",
              "      <th>Year</th>\n",
              "      <td>11914</td>\n",
              "      <td>2010.384337753903</td>\n",
              "      <td>7.5797398875957995</td>\n",
              "      <td>1990</td>\n",
              "      <td>2017</td>\n",
              "    </tr>\n",
              "    <tr>\n",
              "      <th>Engine Fuel Type</th>\n",
              "      <td>11911</td>\n",
              "      <td>None</td>\n",
              "      <td>None</td>\n",
              "      <td>diesel</td>\n",
              "      <td>regular unleaded</td>\n",
              "    </tr>\n",
              "    <tr>\n",
              "      <th>Engine HP</th>\n",
              "      <td>11845</td>\n",
              "      <td>249.38607007176023</td>\n",
              "      <td>109.19187025917194</td>\n",
              "      <td>55</td>\n",
              "      <td>1001</td>\n",
              "    </tr>\n",
              "    <tr>\n",
              "      <th>Engine Cylinders</th>\n",
              "      <td>11884</td>\n",
              "      <td>5.628828677213059</td>\n",
              "      <td>1.78055934824622</td>\n",
              "      <td>0</td>\n",
              "      <td>16</td>\n",
              "    </tr>\n",
              "    <tr>\n",
              "      <th>Transmission Type</th>\n",
              "      <td>11914</td>\n",
              "      <td>None</td>\n",
              "      <td>None</td>\n",
              "      <td>AUTOMATED_MANUAL</td>\n",
              "      <td>UNKNOWN</td>\n",
              "    </tr>\n",
              "    <tr>\n",
              "      <th>Driven_Wheels</th>\n",
              "      <td>11914</td>\n",
              "      <td>None</td>\n",
              "      <td>None</td>\n",
              "      <td>all wheel drive</td>\n",
              "      <td>rear wheel drive</td>\n",
              "    </tr>\n",
              "    <tr>\n",
              "      <th>Number of Doors</th>\n",
              "      <td>11908</td>\n",
              "      <td>3.4360933825999327</td>\n",
              "      <td>0.8813153865835529</td>\n",
              "      <td>2</td>\n",
              "      <td>4</td>\n",
              "    </tr>\n",
              "    <tr>\n",
              "      <th>Market Category</th>\n",
              "      <td>11914</td>\n",
              "      <td>None</td>\n",
              "      <td>None</td>\n",
              "      <td>Crossover</td>\n",
              "      <td>Performance,Hybrid</td>\n",
              "    </tr>\n",
              "    <tr>\n",
              "      <th>Vehicle Size</th>\n",
              "      <td>11914</td>\n",
              "      <td>None</td>\n",
              "      <td>None</td>\n",
              "      <td>Compact</td>\n",
              "      <td>Midsize</td>\n",
              "    </tr>\n",
              "    <tr>\n",
              "      <th>Vehicle Style</th>\n",
              "      <td>11914</td>\n",
              "      <td>None</td>\n",
              "      <td>None</td>\n",
              "      <td>2dr Hatchback</td>\n",
              "      <td>Wagon</td>\n",
              "    </tr>\n",
              "    <tr>\n",
              "      <th>highway MPG</th>\n",
              "      <td>11914</td>\n",
              "      <td>26.637485311398354</td>\n",
              "      <td>8.863000766979422</td>\n",
              "      <td>12</td>\n",
              "      <td>354</td>\n",
              "    </tr>\n",
              "    <tr>\n",
              "      <th>city mpg</th>\n",
              "      <td>11914</td>\n",
              "      <td>19.73325499412456</td>\n",
              "      <td>8.987798160299237</td>\n",
              "      <td>7</td>\n",
              "      <td>137</td>\n",
              "    </tr>\n",
              "    <tr>\n",
              "      <th>Popularity</th>\n",
              "      <td>11914</td>\n",
              "      <td>1554.9111969111968</td>\n",
              "      <td>1441.8553466274648</td>\n",
              "      <td>2</td>\n",
              "      <td>5657</td>\n",
              "    </tr>\n",
              "    <tr>\n",
              "      <th>MSRP</th>\n",
              "      <td>11914</td>\n",
              "      <td>40594.737032063116</td>\n",
              "      <td>60109.10360365422</td>\n",
              "      <td>2000</td>\n",
              "      <td>2065902</td>\n",
              "    </tr>\n",
              "  </tbody>\n",
              "</table>\n",
              "</div>\n",
              "    <div class=\"colab-df-buttons\">\n",
              "\n",
              "  <div class=\"colab-df-container\">\n",
              "    <button class=\"colab-df-convert\" onclick=\"convertToInteractive('df-ab0e90a4-8b05-4f25-9efd-fd5e3b707120')\"\n",
              "            title=\"Convert this dataframe to an interactive table.\"\n",
              "            style=\"display:none;\">\n",
              "\n",
              "  <svg xmlns=\"http://www.w3.org/2000/svg\" height=\"24px\" viewBox=\"0 -960 960 960\">\n",
              "    <path d=\"M120-120v-720h720v720H120Zm60-500h600v-160H180v160Zm220 220h160v-160H400v160Zm0 220h160v-160H400v160ZM180-400h160v-160H180v160Zm440 0h160v-160H620v160ZM180-180h160v-160H180v160Zm440 0h160v-160H620v160Z\"/>\n",
              "  </svg>\n",
              "    </button>\n",
              "\n",
              "  <style>\n",
              "    .colab-df-container {\n",
              "      display:flex;\n",
              "      gap: 12px;\n",
              "    }\n",
              "\n",
              "    .colab-df-convert {\n",
              "      background-color: #E8F0FE;\n",
              "      border: none;\n",
              "      border-radius: 50%;\n",
              "      cursor: pointer;\n",
              "      display: none;\n",
              "      fill: #1967D2;\n",
              "      height: 32px;\n",
              "      padding: 0 0 0 0;\n",
              "      width: 32px;\n",
              "    }\n",
              "\n",
              "    .colab-df-convert:hover {\n",
              "      background-color: #E2EBFA;\n",
              "      box-shadow: 0px 1px 2px rgba(60, 64, 67, 0.3), 0px 1px 3px 1px rgba(60, 64, 67, 0.15);\n",
              "      fill: #174EA6;\n",
              "    }\n",
              "\n",
              "    .colab-df-buttons div {\n",
              "      margin-bottom: 4px;\n",
              "    }\n",
              "\n",
              "    [theme=dark] .colab-df-convert {\n",
              "      background-color: #3B4455;\n",
              "      fill: #D2E3FC;\n",
              "    }\n",
              "\n",
              "    [theme=dark] .colab-df-convert:hover {\n",
              "      background-color: #434B5C;\n",
              "      box-shadow: 0px 1px 3px 1px rgba(0, 0, 0, 0.15);\n",
              "      filter: drop-shadow(0px 1px 2px rgba(0, 0, 0, 0.3));\n",
              "      fill: #FFFFFF;\n",
              "    }\n",
              "  </style>\n",
              "\n",
              "    <script>\n",
              "      const buttonEl =\n",
              "        document.querySelector('#df-ab0e90a4-8b05-4f25-9efd-fd5e3b707120 button.colab-df-convert');\n",
              "      buttonEl.style.display =\n",
              "        google.colab.kernel.accessAllowed ? 'block' : 'none';\n",
              "\n",
              "      async function convertToInteractive(key) {\n",
              "        const element = document.querySelector('#df-ab0e90a4-8b05-4f25-9efd-fd5e3b707120');\n",
              "        const dataTable =\n",
              "          await google.colab.kernel.invokeFunction('convertToInteractive',\n",
              "                                                    [key], {});\n",
              "        if (!dataTable) return;\n",
              "\n",
              "        const docLinkHtml = 'Like what you see? Visit the ' +\n",
              "          '<a target=\"_blank\" href=https://colab.research.google.com/notebooks/data_table.ipynb>data table notebook</a>'\n",
              "          + ' to learn more about interactive tables.';\n",
              "        element.innerHTML = '';\n",
              "        dataTable['output_type'] = 'display_data';\n",
              "        await google.colab.output.renderOutput(dataTable, element);\n",
              "        const docLink = document.createElement('div');\n",
              "        docLink.innerHTML = docLinkHtml;\n",
              "        element.appendChild(docLink);\n",
              "      }\n",
              "    </script>\n",
              "  </div>\n",
              "\n",
              "\n",
              "<div id=\"df-34bee563-9448-4989-ae16-1399c12ed262\">\n",
              "  <button class=\"colab-df-quickchart\" onclick=\"quickchart('df-34bee563-9448-4989-ae16-1399c12ed262')\"\n",
              "            title=\"Suggest charts\"\n",
              "            style=\"display:none;\">\n",
              "\n",
              "<svg xmlns=\"http://www.w3.org/2000/svg\" height=\"24px\"viewBox=\"0 0 24 24\"\n",
              "     width=\"24px\">\n",
              "    <g>\n",
              "        <path d=\"M19 3H5c-1.1 0-2 .9-2 2v14c0 1.1.9 2 2 2h14c1.1 0 2-.9 2-2V5c0-1.1-.9-2-2-2zM9 17H7v-7h2v7zm4 0h-2V7h2v10zm4 0h-2v-4h2v4z\"/>\n",
              "    </g>\n",
              "</svg>\n",
              "  </button>\n",
              "\n",
              "<style>\n",
              "  .colab-df-quickchart {\n",
              "      --bg-color: #E8F0FE;\n",
              "      --fill-color: #1967D2;\n",
              "      --hover-bg-color: #E2EBFA;\n",
              "      --hover-fill-color: #174EA6;\n",
              "      --disabled-fill-color: #AAA;\n",
              "      --disabled-bg-color: #DDD;\n",
              "  }\n",
              "\n",
              "  [theme=dark] .colab-df-quickchart {\n",
              "      --bg-color: #3B4455;\n",
              "      --fill-color: #D2E3FC;\n",
              "      --hover-bg-color: #434B5C;\n",
              "      --hover-fill-color: #FFFFFF;\n",
              "      --disabled-bg-color: #3B4455;\n",
              "      --disabled-fill-color: #666;\n",
              "  }\n",
              "\n",
              "  .colab-df-quickchart {\n",
              "    background-color: var(--bg-color);\n",
              "    border: none;\n",
              "    border-radius: 50%;\n",
              "    cursor: pointer;\n",
              "    display: none;\n",
              "    fill: var(--fill-color);\n",
              "    height: 32px;\n",
              "    padding: 0;\n",
              "    width: 32px;\n",
              "  }\n",
              "\n",
              "  .colab-df-quickchart:hover {\n",
              "    background-color: var(--hover-bg-color);\n",
              "    box-shadow: 0 1px 2px rgba(60, 64, 67, 0.3), 0 1px 3px 1px rgba(60, 64, 67, 0.15);\n",
              "    fill: var(--button-hover-fill-color);\n",
              "  }\n",
              "\n",
              "  .colab-df-quickchart-complete:disabled,\n",
              "  .colab-df-quickchart-complete:disabled:hover {\n",
              "    background-color: var(--disabled-bg-color);\n",
              "    fill: var(--disabled-fill-color);\n",
              "    box-shadow: none;\n",
              "  }\n",
              "\n",
              "  .colab-df-spinner {\n",
              "    border: 2px solid var(--fill-color);\n",
              "    border-color: transparent;\n",
              "    border-bottom-color: var(--fill-color);\n",
              "    animation:\n",
              "      spin 1s steps(1) infinite;\n",
              "  }\n",
              "\n",
              "  @keyframes spin {\n",
              "    0% {\n",
              "      border-color: transparent;\n",
              "      border-bottom-color: var(--fill-color);\n",
              "      border-left-color: var(--fill-color);\n",
              "    }\n",
              "    20% {\n",
              "      border-color: transparent;\n",
              "      border-left-color: var(--fill-color);\n",
              "      border-top-color: var(--fill-color);\n",
              "    }\n",
              "    30% {\n",
              "      border-color: transparent;\n",
              "      border-left-color: var(--fill-color);\n",
              "      border-top-color: var(--fill-color);\n",
              "      border-right-color: var(--fill-color);\n",
              "    }\n",
              "    40% {\n",
              "      border-color: transparent;\n",
              "      border-right-color: var(--fill-color);\n",
              "      border-top-color: var(--fill-color);\n",
              "    }\n",
              "    60% {\n",
              "      border-color: transparent;\n",
              "      border-right-color: var(--fill-color);\n",
              "    }\n",
              "    80% {\n",
              "      border-color: transparent;\n",
              "      border-right-color: var(--fill-color);\n",
              "      border-bottom-color: var(--fill-color);\n",
              "    }\n",
              "    90% {\n",
              "      border-color: transparent;\n",
              "      border-bottom-color: var(--fill-color);\n",
              "    }\n",
              "  }\n",
              "</style>\n",
              "\n",
              "  <script>\n",
              "    async function quickchart(key) {\n",
              "      const quickchartButtonEl =\n",
              "        document.querySelector('#' + key + ' button');\n",
              "      quickchartButtonEl.disabled = true;  // To prevent multiple clicks.\n",
              "      quickchartButtonEl.classList.add('colab-df-spinner');\n",
              "      try {\n",
              "        const charts = await google.colab.kernel.invokeFunction(\n",
              "            'suggestCharts', [key], {});\n",
              "      } catch (error) {\n",
              "        console.error('Error during call to suggestCharts:', error);\n",
              "      }\n",
              "      quickchartButtonEl.classList.remove('colab-df-spinner');\n",
              "      quickchartButtonEl.classList.add('colab-df-quickchart-complete');\n",
              "    }\n",
              "    (() => {\n",
              "      let quickchartButtonEl =\n",
              "        document.querySelector('#df-34bee563-9448-4989-ae16-1399c12ed262 button');\n",
              "      quickchartButtonEl.style.display =\n",
              "        google.colab.kernel.accessAllowed ? 'block' : 'none';\n",
              "    })();\n",
              "  </script>\n",
              "</div>\n",
              "\n",
              "    </div>\n",
              "  </div>\n"
            ],
            "application/vnd.google.colaboratory.intrinsic+json": {
              "type": "dataframe",
              "summary": "{\n  \"name\": \"data\",\n  \"rows\": 17,\n  \"fields\": [\n    {\n      \"column\": 0,\n      \"properties\": {\n        \"dtype\": \"category\",\n        \"num_unique_values\": 6,\n        \"samples\": [\n          \"count\",\n          \"11914\",\n          \"11908\"\n        ],\n        \"semantic_type\": \"\",\n        \"description\": \"\"\n      }\n    },\n    {\n      \"column\": 1,\n      \"properties\": {\n        \"dtype\": \"string\",\n        \"num_unique_values\": 10,\n        \"samples\": [\n          \"1554.9111969111968\",\n          \"745.5822222222222\",\n          \"3.4360933825999327\"\n        ],\n        \"semantic_type\": \"\",\n        \"description\": \"\"\n      }\n    },\n    {\n      \"column\": 2,\n      \"properties\": {\n        \"dtype\": \"string\",\n        \"num_unique_values\": 10,\n        \"samples\": [\n          \"1441.8553466274648\",\n          \"1490.8280590623795\",\n          \"0.8813153865835529\"\n        ],\n        \"semantic_type\": \"\",\n        \"description\": \"\"\n      }\n    },\n    {\n      \"column\": 3,\n      \"properties\": {\n        \"dtype\": \"string\",\n        \"num_unique_values\": 16,\n        \"samples\": [\n          \"min\",\n          \"Acura\",\n          \"55\"\n        ],\n        \"semantic_type\": \"\",\n        \"description\": \"\"\n      }\n    },\n    {\n      \"column\": 4,\n      \"properties\": {\n        \"dtype\": \"string\",\n        \"num_unique_values\": 17,\n        \"samples\": [\n          \"max\",\n          \"Volvo\",\n          \"1001\"\n        ],\n        \"semantic_type\": \"\",\n        \"description\": \"\"\n      }\n    }\n  ]\n}"
            }
          },
          "metadata": {},
          "execution_count": 20
        }
      ]
    },
    {
      "cell_type": "code",
      "source": [
        "# Replace NA strings as null values since spark doesn't handle it properly\n",
        "def replace(column,value):\n",
        "    return when(column!=value,column).otherwise(lit(None))\n",
        "\n",
        "data = data.withColumn(\"Market Category\",replace(col(\"Market Category\"),\"N/A\"))"
      ],
      "metadata": {
        "id": "DXf7DLq7vsR5"
      },
      "execution_count": 21,
      "outputs": []
    },
    {
      "cell_type": "code",
      "source": [
        "# Which columns have the null values and how many\n",
        "data.select([count(when(isnan(c)| col(c).isNull(),c)).alias(c) for c in data.columns]).show()"
      ],
      "metadata": {
        "colab": {
          "base_uri": "https://localhost:8080/"
        },
        "id": "uKHt1CaBvsbR",
        "outputId": "42dfcd63-7505-4067-9b65-e6206c551567"
      },
      "execution_count": 24,
      "outputs": [
        {
          "output_type": "stream",
          "name": "stdout",
          "text": [
            "+----+-----+----+----------------+---------+----------------+-----------------+-------------+---------------+---------------+------------+-------------+-----------+--------+----------+----+\n",
            "|Make|Model|Year|Engine Fuel Type|Engine HP|Engine Cylinders|Transmission Type|Driven_Wheels|Number of Doors|Market Category|Vehicle Size|Vehicle Style|highway MPG|city mpg|Popularity|MSRP|\n",
            "+----+-----+----+----------------+---------+----------------+-----------------+-------------+---------------+---------------+------------+-------------+-----------+--------+----------+----+\n",
            "|   0|    0|   0|               3|       69|              30|                0|            0|              6|           3742|           0|            0|          0|       0|         0|   0|\n",
            "+----+-----+----+----------------+---------+----------------+-----------------+-------------+---------------+---------------+------------+-------------+-----------+--------+----------+----+\n",
            "\n"
          ]
        }
      ]
    },
    {
      "cell_type": "code",
      "source": [
        "# Drop the bad columns\n",
        "data = data.drop(\"Market Category\")\n",
        "data = data.na.drop()\n",
        "\n",
        "# shape\n",
        "print((data.count(),len(data.columns)))"
      ],
      "metadata": {
        "colab": {
          "base_uri": "https://localhost:8080/"
        },
        "id": "Fb90choAvsq0",
        "outputId": "64e524c7-4633-442b-f045-7cb9357e51b9"
      },
      "execution_count": 25,
      "outputs": [
        {
          "output_type": "stream",
          "name": "stdout",
          "text": [
            "(11812, 15)\n"
          ]
        }
      ]
    },
    {
      "cell_type": "markdown",
      "source": [
        "Create a pipeline for ML models"
      ],
      "metadata": {
        "id": "nfMQkEuAC6wI"
      }
    },
    {
      "cell_type": "code",
      "source": [
        "# this will create a pipeline to make a feature vector of the chosen features and added as a column vector\n",
        "assembler = VectorAssembler(inputCols=['Year','Engine HP','Engine Cylinders','Number of Doors','highway MPG','city mpg','Popularity'], outputCol = \"Attributes\")"
      ],
      "metadata": {
        "id": "rfSyCY6Fvst2"
      },
      "execution_count": 40,
      "outputs": []
    },
    {
      "cell_type": "code",
      "source": [
        "regressor = RandomForestRegressor(featuresCol = 'Attributes', labelCol = \"MSRP\")"
      ],
      "metadata": {
        "id": "SUqF-ZJGDDLV"
      },
      "execution_count": 41,
      "outputs": []
    },
    {
      "cell_type": "code",
      "source": [
        "pipeline = Pipeline(stages = [assembler,regressor])\n",
        "pipeline.write().overwrite().save(\"pipeline\")\n",
        "!ls"
      ],
      "metadata": {
        "colab": {
          "base_uri": "https://localhost:8080/"
        },
        "id": "hvqmU12NDDPZ",
        "outputId": "8ba8d309-b431-4bfd-c402-9885e715cedc"
      },
      "execution_count": 42,
      "outputs": [
        {
          "output_type": "stream",
          "name": "stdout",
          "text": [
            "drive  pipeline  sample_data  spark-3.4.2-bin-hadoop3  spark-3.4.2-bin-hadoop3.tgz\n"
          ]
        }
      ]
    },
    {
      "cell_type": "markdown",
      "source": [
        "Cross Validation"
      ],
      "metadata": {
        "id": "E540VaYUDwkz"
      }
    },
    {
      "cell_type": "code",
      "source": [
        "pipelineModel = Pipeline.load('pipeline')\n",
        "paramGrid = ParamGridBuilder().addGrid(regressor.numTrees,[100,500]).build()"
      ],
      "metadata": {
        "id": "dAYhEYIpDDSL"
      },
      "execution_count": 43,
      "outputs": []
    },
    {
      "cell_type": "code",
      "source": [
        "crossval = CrossValidator(estimator = pipelineModel,\n",
        "                          estimatorParamMaps= paramGrid,\n",
        "                          evaluator = RegressionEvaluator(labelCol = 'MSRP'),\n",
        "                          numFolds = 3)"
      ],
      "metadata": {
        "id": "gTRkgZx4EKnI"
      },
      "execution_count": 44,
      "outputs": []
    },
    {
      "cell_type": "markdown",
      "source": [
        "Training and Prediction"
      ],
      "metadata": {
        "id": "P4oAWTLGEh4v"
      }
    },
    {
      "cell_type": "code",
      "source": [
        "train_data, test_data = data.randomSplit([0.8,0.2],seed=1337)\n",
        "cvModel = crossval.fit(train_data)"
      ],
      "metadata": {
        "id": "dVOi0jytEkfu"
      },
      "execution_count": 45,
      "outputs": []
    },
    {
      "cell_type": "code",
      "source": [
        "bestModel = cvModel.bestModel\n",
        "for x in range(len(bestModel.stages)):\n",
        "  print(bestModel.stages[x])"
      ],
      "metadata": {
        "colab": {
          "base_uri": "https://localhost:8080/"
        },
        "id": "-YG3BNB1FFBu",
        "outputId": "f0988b64-5acc-4522-d112-2d289eca8acb"
      },
      "execution_count": 46,
      "outputs": [
        {
          "output_type": "stream",
          "name": "stdout",
          "text": [
            "VectorAssembler_632a79fd1f67\n",
            "RandomForestRegressionModel: uid=RandomForestRegressor_049df6f7f4be, numTrees=500, numFeatures=7\n"
          ]
        }
      ]
    },
    {
      "cell_type": "code",
      "source": [
        "pred = cvModel.transform(test_data)\n",
        "pred.select('MSRP','prediction').show()"
      ],
      "metadata": {
        "colab": {
          "base_uri": "https://localhost:8080/"
        },
        "id": "tdqZO8MREkh-",
        "outputId": "c3a3cd24-1d54-4444-ef50-c0ddd264d55a"
      },
      "execution_count": 47,
      "outputs": [
        {
          "output_type": "stream",
          "name": "stdout",
          "text": [
            "+-----+------------------+\n",
            "| MSRP|        prediction|\n",
            "+-----+------------------+\n",
            "|30550| 37830.30235614553|\n",
            "|29200|26660.289843433697|\n",
            "|29990|26660.289843433697|\n",
            "|32990|26660.289843433697|\n",
            "| 3000| 5342.684113977234|\n",
            "| 3222| 5357.872197239239|\n",
            "| 3652| 6789.889779772829|\n",
            "|22600|24938.129351018062|\n",
            "|20200|22955.897450738426|\n",
            "| 2265| 7355.805630853488|\n",
            "| 2506| 7355.805630853488|\n",
            "|44565|  39698.1501235928|\n",
            "|56780|  39698.1501235928|\n",
            "|43015|40022.378804901375|\n",
            "|44515|40022.378804901375|\n",
            "|47440|40022.378804901375|\n",
            "|45950| 39674.44227136011|\n",
            "|50360| 39674.44227136011|\n",
            "|36870| 40060.04126978006|\n",
            "|41870| 40060.04126978006|\n",
            "+-----+------------------+\n",
            "only showing top 20 rows\n",
            "\n"
          ]
        }
      ]
    },
    {
      "cell_type": "markdown",
      "source": [
        "Evaluate Metrics"
      ],
      "metadata": {
        "id": "SALO6QKJFt6H"
      }
    },
    {
      "cell_type": "code",
      "source": [
        "eval = RegressionEvaluator(labelCol = \"MSRP\")\n",
        "rmse = eval.evaluate(pred)\n",
        "mse = eval.evaluate(pred,{eval.metricName:\"mse\"})\n",
        "mae = eval.evaluate(pred,{eval.metricName:\"mae\"})\n",
        "r2 = eval.evaluate(pred,{eval.metricName:\"r2\"})\n",
        "\n",
        "\n",
        "print(\"RMSE: %.3f\" %rmse)\n",
        "print(\"MSE: %.3f\" %mse)\n",
        "print(\"MAE: %.3f\" %mae)\n",
        "print(\"R2: %.3f\" %r2)\n"
      ],
      "metadata": {
        "colab": {
          "base_uri": "https://localhost:8080/"
        },
        "id": "RDGbTqIbFvgH",
        "outputId": "327be9da-8546-4fb2-86af-c5bc0301049b"
      },
      "execution_count": 50,
      "outputs": [
        {
          "output_type": "stream",
          "name": "stdout",
          "text": [
            "RMSE: 18414.564\n",
            "MSE: 339096149.453\n",
            "MAE: 9002.796\n",
            "R2: 0.863\n"
          ]
        }
      ]
    },
    {
      "cell_type": "code",
      "source": [],
      "metadata": {
        "id": "CH9thl4hFxlW"
      },
      "execution_count": null,
      "outputs": []
    },
    {
      "cell_type": "code",
      "source": [],
      "metadata": {
        "id": "oBI5mDXLFvpR"
      },
      "execution_count": null,
      "outputs": []
    }
  ]
}